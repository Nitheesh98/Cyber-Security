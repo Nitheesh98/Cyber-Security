{
  "nbformat": 4,
  "nbformat_minor": 0,
  "metadata": {
    "colab": {
      "provenance": []
    },
    "kernelspec": {
      "name": "python3",
      "display_name": "Python 3"
    },
    "language_info": {
      "name": "python"
    }
  },
  "cells": [
    {
      "cell_type": "code",
      "execution_count": 1,
      "metadata": {
        "colab": {
          "base_uri": "https://localhost:8080/"
        },
        "id": "IgLh26Lvz1Rt",
        "outputId": "89a2faa5-8655-4fde-aa29-3b18a0cfad7b"
      },
      "outputs": [
        {
          "output_type": "stream",
          "name": "stdout",
          "text": [
            "Requirement already satisfied: opencv-python in /usr/local/lib/python3.11/dist-packages (4.11.0.86)\n",
            "Requirement already satisfied: numpy in /usr/local/lib/python3.11/dist-packages (1.26.4)\n"
          ]
        }
      ],
      "source": [
        "!pip install opencv-python numpy"
      ]
    },
    {
      "cell_type": "code",
      "source": [
        "import cv2\n",
        "import numpy as np\n",
        "import matplotlib.pyplot as plt\n",
        "\n",
        "# Function to embed message into an image\n",
        "def encode_image(image_path, secret_message, output_path=\"encoded.png\"):\n",
        "    # Read the image\n",
        "    img = cv2.imread(image_path)\n",
        "\n",
        "    # Convert message to binary\n",
        "    message = secret_message + \"###\"  # Delimiter to identify the end\n",
        "    binary_message = ''.join(format(ord(i), '08b') for i in message)\n",
        "\n",
        "    # Get image dimensions\n",
        "    rows, cols, channels = img.shape\n",
        "    total_pixels = rows * cols\n",
        "\n",
        "    # Ensure message fits in image\n",
        "    if len(binary_message) > total_pixels * 3:\n",
        "        raise ValueError(\"Message is too large for this image!\")\n",
        "\n",
        "    data_index = 0\n",
        "    binary_len = len(binary_message)\n",
        "\n",
        "    # Loop through pixels and encode bits\n",
        "    for row in img:\n",
        "        for pixel in row:\n",
        "            for i in range(3):  # Iterate over RGB channels\n",
        "                if data_index < binary_len:\n",
        "                    pixel[i] = int(bin(pixel[i])[2:-1] + binary_message[data_index], 2)\n",
        "                    data_index += 1\n",
        "\n",
        "    # Save the encoded image\n",
        "    cv2.imwrite(output_path, img)\n",
        "    print(f\"✅ Message successfully hidden in {output_path}\")\n",
        "\n",
        "# Function to extract message from an image\n",
        "def decode_image(image_path):\n",
        "    img = cv2.imread(image_path)\n",
        "\n",
        "    binary_message = \"\"\n",
        "    for row in img:\n",
        "        for pixel in row:\n",
        "            for i in range(3):  # Extract from RGB channels\n",
        "                binary_message += bin(pixel[i])[-1]\n",
        "\n",
        "    # Convert binary to text\n",
        "    message_bits = [binary_message[i:i+8] for i in range(0, len(binary_message), 8)]\n",
        "    decoded_message = \"\".join([chr(int(b, 2)) for b in message_bits])\n",
        "\n",
        "    # Extract until delimiter (###)\n",
        "    decoded_message = decoded_message.split(\"###\")[0]\n",
        "\n",
        "    print(f\"🔍 Hidden Message: {decoded_message}\")\n",
        "\n",
        "# File paths\n",
        "original_image = \"Before.png\"  # Ensure this file is uploaded\n",
        "encoded_image = \"Encoded.png\"\n",
        "hidden_text = \"Secure Data Hiding Using Steganography\"\n",
        "\n",
        "# Encode the image\n",
        "encode_image(original_image, hidden_text, encoded_image)\n",
        "\n",
        "# Decode the message from the image\n",
        "decode_image(encoded_image)\n"
      ],
      "metadata": {
        "colab": {
          "base_uri": "https://localhost:8080/"
        },
        "id": "PFAq-jtcz-ry",
        "outputId": "43d467ec-d073-4e73-decb-93cfd155b650"
      },
      "execution_count": 2,
      "outputs": [
        {
          "output_type": "stream",
          "name": "stdout",
          "text": [
            "✅ Message successfully hidden in Encoded.png\n",
            "🔍 Hidden Message: Secure Data Hiding Using Steganography\n"
          ]
        }
      ]
    }
  ]
}